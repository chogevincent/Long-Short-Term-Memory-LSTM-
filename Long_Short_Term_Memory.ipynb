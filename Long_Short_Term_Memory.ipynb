{
  "nbformat": 4,
  "nbformat_minor": 0,
  "metadata": {
    "colab": {
      "provenance": []
    },
    "kernelspec": {
      "name": "python3",
      "display_name": "Python 3"
    },
    "language_info": {
      "name": "python"
    }
  },
  "cells": [
    {
      "cell_type": "markdown",
      "source": [
        "### **Purpose**"
      ],
      "metadata": {
        "id": "biH3eGYVAU-X"
      }
    },
    {
      "cell_type": "markdown",
      "source": [
        "The code is to build a deep learning model using **LSTM**(Long Short-Term Memory) to perform **sentiment analysis** on the **IMDB movie reviews dataset**, classifying them as either **positive (1)** or **negative (0)**."
      ],
      "metadata": {
        "id": "XXpKBbEjAZDE"
      }
    },
    {
      "cell_type": "markdown",
      "source": [
        "### **Importing Libraries**"
      ],
      "metadata": {
        "id": "ovthKiOE5YoT"
      }
    },
    {
      "cell_type": "markdown",
      "source": [
        "The folloing code imports essential libraries for building and working with deep learning models in TensorFlow.\n",
        "\n",
        "tensorflow and keras are used to define, train, and evaluate neural networks, while numpy is a library for numerical computations, often used to handle arrays and matrices, which are fundamental to machine learning tasks.\n",
        "\n",
        "These libraries provide the tools necessary to build, optimize, and work with deep learning models efficiently."
      ],
      "metadata": {
        "id": "8N-PUL1s5hkr"
      }
    },
    {
      "cell_type": "code",
      "source": [
        "import tensorflow as tf\n",
        "from tensorflow import keras\n",
        "import numpy as np"
      ],
      "metadata": {
        "id": "I9wWTX5G5rAQ"
      },
      "execution_count": null,
      "outputs": []
    },
    {
      "cell_type": "code",
      "source": [
        "# Load the buily-in IMDB dataset\n",
        "imdb=keras.datasets.imdb"
      ],
      "metadata": {
        "id": "5IowVVnF5uWW"
      },
      "execution_count": null,
      "outputs": []
    },
    {
      "cell_type": "markdown",
      "source": [
        "The above code loads the built-in IMDB dataset from Keras, which is a collection of movie reviews labeled as either positive or negative.\n",
        "\n",
        "The dataset is commonly used for sentiment analysis tasks. By assigning keras.datasets.imdb to the variable imdb, you can easily access the dataset's training and test sets, which are typically used for training machine learning models for binary classification"
      ],
      "metadata": {
        "id": "WW3K4aDL5yJR"
      }
    },
    {
      "cell_type": "code",
      "source": [
        "# Set the vocabulary size and maximum sequence length\n",
        "vocab_size=10000\n",
        "max_length=250"
      ],
      "metadata": {
        "id": "4oxAgt3k54Vx"
      },
      "execution_count": null,
      "outputs": []
    },
    {
      "cell_type": "markdown",
      "source": [
        "This code sets two important parameters for preprocessing the IMDB dataset.\n",
        "\n",
        "vocab_size=10000 means that only the top 10,000 most frequent words in the dataset will be considered as features, effectively limiting the vocabulary to the most common terms.\n",
        "\n",
        "max_length=250 specifies that the movie reviews will be padded or truncated to a fixed length of 250 words. This ensures that all input sequences have the same length, which is necessary for feeding data into a neural network."
      ],
      "metadata": {
        "id": "-ayXg0-T59Eg"
      }
    },
    {
      "cell_type": "markdown",
      "source": [
        "### **Loading Dataset**"
      ],
      "metadata": {
        "id": "vbcFYJOi6BFj"
      }
    },
    {
      "cell_type": "markdown",
      "source": [
        "The folwwong code loads the IMDB dataset for training and testing, limiting the vocabulary to the top 10,000 most frequent words, as specified by num_words=vocab_size.\n",
        "\n",
        "The imdb.load_data() function returns two tuples: (x_train, y_train) for the training set and (x_test, y_test) for the test set. x_train and x_test contain the tokenized movie reviews (represented as sequences of integers corresponding to word indices), while y_train and y_test contain the labels (0 for negative reviews, 1 for positive reviews)."
      ],
      "metadata": {
        "id": "CEIsHbxi6IRn"
      }
    },
    {
      "cell_type": "code",
      "source": [
        "# Load the dataset\n",
        "(x_train,y_train),(x_test,y_test)=imdb.load_data(num_words=vocab_size)"
      ],
      "metadata": {
        "colab": {
          "base_uri": "https://localhost:8080/"
        },
        "id": "2dkIRr456OGx",
        "outputId": "0795b9ac-0de9-457d-d362-10a00b5597b0"
      },
      "execution_count": null,
      "outputs": [
        {
          "output_type": "stream",
          "name": "stdout",
          "text": [
            "Downloading data from https://storage.googleapis.com/tensorflow/tf-keras-datasets/imdb.npz\n",
            "\u001b[1m17464789/17464789\u001b[0m \u001b[32m━━━━━━━━━━━━━━━━━━━━\u001b[0m\u001b[37m\u001b[0m \u001b[1m0s\u001b[0m 0us/step\n"
          ]
        }
      ]
    },
    {
      "cell_type": "markdown",
      "source": [
        "This prepares the data for training and evaluating a machine learning mode"
      ],
      "metadata": {
        "id": "wGI9ZqBK6Tgc"
      }
    },
    {
      "cell_type": "code",
      "source": [
        "# Pad the sequences to have the same length\n",
        "x_train=keras.preprocessing.sequence.pad_sequences(x_train,maxlen=max_length)\n",
        "x_test=keras.preprocessing.sequence.pad_sequences(x_test,maxlen=max_length)"
      ],
      "metadata": {
        "id": "J1igJzmb6WOv"
      },
      "execution_count": null,
      "outputs": []
    },
    {
      "cell_type": "markdown",
      "source": [
        "This code ensures that all input sequences (movie reviews) have the same length by padding or truncating them to a fixed size of 250 words, as specified by maxlen=max_length.\n",
        "\n",
        "The keras.preprocessing.sequence.pad_sequences() function is applied to both the training data (x_train) and the test data (x_test).\n",
        "\n",
        "If a review is shorter than 250 words, it is padded with zeros at the beginning; if it's longer, it is truncated to the first 250 words. This step is crucial because neural networks require inputs of consistent size for efficient processing."
      ],
      "metadata": {
        "id": "B0-oKvjc6Zm3"
      }
    },
    {
      "cell_type": "markdown",
      "source": [
        "### **Building The LSTM Model**"
      ],
      "metadata": {
        "id": "LSKJ-2-v6cKK"
      }
    },
    {
      "cell_type": "code",
      "source": [
        "# # Build the LSTM model\n",
        "# model=keras.Sequential([\n",
        "#     keras.layers.Embedding(vocab_size,32),\n",
        "#     keras.layers.LSTM(32),\n",
        "#     keras.layers.Dense(1,activation='sigmoid')\n",
        "#   ])"
      ],
      "metadata": {
        "id": "P_Cg-PHN6l2X"
      },
      "execution_count": null,
      "outputs": []
    },
    {
      "cell_type": "code",
      "source": [
        "# Build the LSTM model\n",
        "model=keras.Sequential([\n",
        "    keras.layers.Embedding(vocab_size,32),\n",
        "    keras.layers.LSTM(32), # Remove input_shape argument\n",
        "    keras.layers.Dense(1,activation='sigmoid')\n",
        "  ])"
      ],
      "metadata": {
        "id": "91cFd7B178Yx"
      },
      "execution_count": null,
      "outputs": []
    },
    {
      "cell_type": "markdown",
      "source": [
        "This code builds a simple LSTM (Long Short-Term Memory) model using Keras for sentiment analysis. The model consists of three layers:\n",
        "\n",
        "1. **Embedding Layer: **The Embedding(vocab_size, 32) layer transforms the integer-encoded words in the input sequences into dense vectors of size 32. It maps each of the top 10,000 words (defined by vocab_size) to a 32-dimensional vector, allowing the model to learn better representations for the words.\n",
        "\n",
        "2. **LSTM Layer:** The LSTM(32) layer is a type of recurrent neural network (RNN) designed to capture long-term dependencies in sequences. It contains 32 units, which help the model learn patterns in the sequence of words in the reviews.\n",
        "\n",
        "3. **Dense Layer:** The Dense(1, activation='sigmoid') layer is the output layer. It has a single neuron with a sigmoid activation function, which is used for binary classification (positive or negative review).\n",
        "\n",
        "This model architecture is designed to process sequences of text and classify them into two categories: positive or negative."
      ],
      "metadata": {
        "id": "wGz5Lw4c6ytR"
      }
    },
    {
      "cell_type": "markdown",
      "source": [
        "### **Compiling The Model**"
      ],
      "metadata": {
        "id": "oY9a2Trq67tH"
      }
    },
    {
      "cell_type": "code",
      "source": [
        "# Compile the model\n",
        "model.compile(optimizer='adam',\n",
        "               loss='binary_crossntrophy',\n",
        "               metrics=['accuracy'])"
      ],
      "metadata": {
        "id": "h_a5ZP4C7GvX"
      },
      "execution_count": null,
      "outputs": []
    },
    {
      "cell_type": "code",
      "source": [
        "# Compile the model\n",
        "model.compile(optimizer='adam',\n",
        "               loss='binary_crossentropy', # Changed 'binary_crossentrophy' to 'binary_crossentropy'\n",
        "               metrics=['accuracy'])"
      ],
      "metadata": {
        "id": "ZVuLNKYT7sPS"
      },
      "execution_count": null,
      "outputs": []
    },
    {
      "cell_type": "markdown",
      "source": [
        "### **Training The Model**"
      ],
      "metadata": {
        "id": "b2gvu_oY7I0K"
      }
    },
    {
      "cell_type": "markdown",
      "source": [
        "This code trains the LSTM model on the training data (x_train and y_train) for 10 epochs with a batch size of 32. The validation_split=0.2 parameter means that 20% of the training data will be used for validation during training. The model will be evaluated on this validation data after each epoch to monitor its performance and generalization ability.\n",
        "\n",
        "The fit() method returns a history object, which stores the training and validation metrics (such as accuracy and loss) over the epochs. This allows you to track how the model's performance evolves over time."
      ],
      "metadata": {
        "id": "GENVeCtI7Qwk"
      }
    },
    {
      "cell_type": "code",
      "source": [
        "# Compile the model\n",
        "model.compile(optimizer='adam',\n",
        "               loss='binary_crossentropy', # Corrected loss function name\n",
        "               metrics=['accuracy'])\n",
        "\n",
        "# Train the model\n",
        "history = model.fit(x_train,y_train,\n",
        "                  epochs=10,\n",
        "                  batch_size=32,\n",
        "                  validation_split=0.2)"
      ],
      "metadata": {
        "colab": {
          "base_uri": "https://localhost:8080/"
        },
        "id": "V4IcmkX88Nph",
        "outputId": "eca790ad-e755-4bf9-9d29-9c532c03ae52"
      },
      "execution_count": null,
      "outputs": [
        {
          "output_type": "stream",
          "name": "stdout",
          "text": [
            "Epoch 1/10\n",
            "\u001b[1m625/625\u001b[0m \u001b[32m━━━━━━━━━━━━━━━━━━━━\u001b[0m\u001b[37m\u001b[0m \u001b[1m59s\u001b[0m 90ms/step - accuracy: 0.6770 - loss: 0.5678 - val_accuracy: 0.8506 - val_loss: 0.3609\n",
            "Epoch 2/10\n",
            "\u001b[1m625/625\u001b[0m \u001b[32m━━━━━━━━━━━━━━━━━━━━\u001b[0m\u001b[37m\u001b[0m \u001b[1m83s\u001b[0m 91ms/step - accuracy: 0.8900 - loss: 0.2795 - val_accuracy: 0.8530 - val_loss: 0.3660\n",
            "Epoch 3/10\n",
            "\u001b[1m625/625\u001b[0m \u001b[32m━━━━━━━━━━━━━━━━━━━━\u001b[0m\u001b[37m\u001b[0m \u001b[1m81s\u001b[0m 90ms/step - accuracy: 0.9277 - loss: 0.2003 - val_accuracy: 0.8602 - val_loss: 0.3286\n",
            "Epoch 4/10\n",
            "\u001b[1m625/625\u001b[0m \u001b[32m━━━━━━━━━━━━━━━━━━━━\u001b[0m\u001b[37m\u001b[0m \u001b[1m83s\u001b[0m 91ms/step - accuracy: 0.9443 - loss: 0.1580 - val_accuracy: 0.8610 - val_loss: 0.3445\n",
            "Epoch 5/10\n",
            "\u001b[1m625/625\u001b[0m \u001b[32m━━━━━━━━━━━━━━━━━━━━\u001b[0m\u001b[37m\u001b[0m \u001b[1m82s\u001b[0m 92ms/step - accuracy: 0.9598 - loss: 0.1195 - val_accuracy: 0.8584 - val_loss: 0.3573\n",
            "Epoch 6/10\n",
            "\u001b[1m625/625\u001b[0m \u001b[32m━━━━━━━━━━━━━━━━━━━━\u001b[0m\u001b[37m\u001b[0m \u001b[1m81s\u001b[0m 90ms/step - accuracy: 0.9400 - loss: 0.1575 - val_accuracy: 0.8596 - val_loss: 0.4435\n",
            "Epoch 7/10\n",
            "\u001b[1m625/625\u001b[0m \u001b[32m━━━━━━━━━━━━━━━━━━━━\u001b[0m\u001b[37m\u001b[0m \u001b[1m82s\u001b[0m 90ms/step - accuracy: 0.9742 - loss: 0.0791 - val_accuracy: 0.8632 - val_loss: 0.4480\n",
            "Epoch 8/10\n",
            "\u001b[1m625/625\u001b[0m \u001b[32m━━━━━━━━━━━━━━━━━━━━\u001b[0m\u001b[37m\u001b[0m \u001b[1m81s\u001b[0m 88ms/step - accuracy: 0.9817 - loss: 0.0567 - val_accuracy: 0.8570 - val_loss: 0.5119\n",
            "Epoch 9/10\n",
            "\u001b[1m625/625\u001b[0m \u001b[32m━━━━━━━━━━━━━━━━━━━━\u001b[0m\u001b[37m\u001b[0m \u001b[1m85s\u001b[0m 93ms/step - accuracy: 0.9773 - loss: 0.0675 - val_accuracy: 0.8496 - val_loss: 0.5114\n",
            "Epoch 10/10\n",
            "\u001b[1m625/625\u001b[0m \u001b[32m━━━━━━━━━━━━━━━━━━━━\u001b[0m\u001b[37m\u001b[0m \u001b[1m80s\u001b[0m 89ms/step - accuracy: 0.9858 - loss: 0.0492 - val_accuracy: 0.8610 - val_loss: 0.4947\n"
          ]
        }
      ]
    },
    {
      "cell_type": "code",
      "source": [
        "# # Train the model\n",
        "# history = model.fit(x_train,y_train,\n",
        "#                   epochs=10,\n",
        "#                   batch_size=32,\n",
        "#                   validation_split=0.2)"
      ],
      "metadata": {
        "id": "H2k3ch7M7TKE"
      },
      "execution_count": null,
      "outputs": []
    },
    {
      "cell_type": "markdown",
      "source": [
        "This output shows the training progress over 10 epochs for the LSTM model. Each line corresponds to an epoch and provides several metrics:\n",
        "\n",
        "1. **accuracy:** The model's accuracy on the training data for that epoch.\n",
        "\n",
        "2. **loss:** The training loss, which measures the difference between the model's predictions and the actual labels. Lower values are better.\n",
        "\n",
        "3. **val_accuracy: **The model's accuracy on the validation set after that epoch. This helps monitor how well the model generalizes to unseen data.\n",
        "\n",
        "4. **val_loss:** The validation loss, which measures how well the model's predictions match the actual labels in the validation set.\n",
        "\n",
        "**Key points from the output:**\n",
        "\n",
        "- Epoch 1 starts with a training accuracy of 70.34% and validation accuracy of 83.24%.\n",
        "\n",
        "- Epoch 2 sees a significant improvement in training accuracy (89.93%) and a slight increase in validation accuracy (87.80%).\n",
        "\n",
        "- Training accuracy continues to rise steadily, reaching 98.00% by Epoch 10, while validation accuracy fluctuates slightly, peaking at 87.12% in Epoch 6 and ending at 84.98% in Epoch 10.\n",
        "\n",
        "- The validation loss starts at 0.3732 in Epoch 1, improves initially, but then increases in later epochs, suggesting some overfitting (the model fits the training data well but may struggle to generalize on validation data).\n",
        "\n",
        "Overall, the model shows strong training performance, but the increasing validation loss and slight fluctuations in validation accuracy suggest some potential overfitting, especially after Epoch 6."
      ],
      "metadata": {
        "id": "58zgfNr_8eOB"
      }
    },
    {
      "cell_type": "markdown",
      "source": [
        "### **Evaluation**"
      ],
      "metadata": {
        "id": "8G0VRxio82EO"
      }
    },
    {
      "cell_type": "markdown",
      "source": [
        "This code evaluates the trained LSTM model on the test data (x_test and y_test) using the evaluate() function. The function returns two values: test_loss and test_acc.\n",
        "\n",
        "- **test_loss** represents how well the model's predictions match the true labels on the test set, measured using the loss function (in this case, likely binary cross-entropy, given the binary classification task).\n",
        "\n",
        "- **test_ac**c represents the model's accuracy on the test set, i.e., the proportion of correctly classified reviews.\n",
        "\n",
        "Finally, it prints the test accuracy (test_acc), which provides an indication of how well the model performs on unseen data."
      ],
      "metadata": {
        "id": "IwUrnZu988JC"
      }
    },
    {
      "cell_type": "code",
      "source": [
        "# evaluate the model\n",
        "test_loss,test_acc=model.evaluate(x_test,y_test)\n",
        "print('Test accuracy:',test_acc)"
      ],
      "metadata": {
        "colab": {
          "base_uri": "https://localhost:8080/"
        },
        "id": "C00Rd_Vs9IK8",
        "outputId": "f82e2c47-f7f8-4fbb-c179-17e6450b36f5"
      },
      "execution_count": null,
      "outputs": [
        {
          "output_type": "stream",
          "name": "stdout",
          "text": [
            "\u001b[1m782/782\u001b[0m \u001b[32m━━━━━━━━━━━━━━━━━━━━\u001b[0m\u001b[37m\u001b[0m \u001b[1m22s\u001b[0m 28ms/step - accuracy: 0.8464 - loss: 0.5608\n",
            "Test accuracy: 0.8469200134277344\n"
          ]
        }
      ]
    },
    {
      "cell_type": "markdown",
      "source": [
        "This output indicates that the model has been evaluated on the test set. The 782/782 shows that there are 782 batches in the test data, and the evaluation took 4 seconds with an average of 5 milliseconds per step.\n",
        "\n",
        "- **The accuracy:**0.8447 indicates that the model achieved an accuracy of approximately 84.47% on the test data during the evaluation.\n",
        "\n",
        "- **The loss:** 0.5740 represents the value of the loss function, which quantifies how far the model's predictions are from the actual labels.\n",
        "\n",
        "Finally, the printed Test accuracy: 0.8463 confirms that the model's accuracy on the test set is approximately 84.63%. This suggests the model is performing well in classifying the sentiment of movie reviews, achieving a good balance between accuracy and loss."
      ],
      "metadata": {
        "id": "utbTj0N99LGB"
      }
    }
  ]
}